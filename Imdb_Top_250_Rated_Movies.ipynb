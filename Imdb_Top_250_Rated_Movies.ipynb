{
 "cells": [
  {
   "cell_type": "code",
   "execution_count": 1,
   "id": "1b13febe",
   "metadata": {},
   "outputs": [],
   "source": [
    "# starting with the new agenda"
   ]
  },
  {
   "cell_type": "code",
   "execution_count": 2,
   "id": "8b836fd2",
   "metadata": {},
   "outputs": [],
   "source": [
    "from selenium import webdriver\n",
    "from bs4 import BeautifulSoup"
   ]
  },
  {
   "cell_type": "code",
   "execution_count": 3,
   "id": "6117d766",
   "metadata": {},
   "outputs": [],
   "source": [
    "driver = webdriver.Chrome(r\"C:\\ProgramData\\Anaconda3\\Scripts\\chromedriver.exe\")"
   ]
  },
  {
   "cell_type": "code",
   "execution_count": 4,
   "id": "6c7ce198",
   "metadata": {},
   "outputs": [],
   "source": [
    "url = \"https://www.imdb.com/chart/top/?ref_=nv_mv_250\""
   ]
  },
  {
   "cell_type": "code",
   "execution_count": 5,
   "id": "494b145e",
   "metadata": {},
   "outputs": [],
   "source": [
    "driver.get(url)\n",
    "soup= BeautifulSoup(driver.page_source, \"lxml\")"
   ]
  },
  {
   "cell_type": "code",
   "execution_count": 6,
   "id": "1bc61121",
   "metadata": {},
   "outputs": [
    {
     "data": {
      "text/plain": [
       "'IMDb Top 250 - IMDb'"
      ]
     },
     "execution_count": 6,
     "metadata": {},
     "output_type": "execute_result"
    }
   ],
   "source": [
    "soup.title.text"
   ]
  },
  {
   "cell_type": "code",
   "execution_count": 7,
   "id": "7c5584a4",
   "metadata": {},
   "outputs": [],
   "source": [
    "movie_list = soup.find(class_= \"lister-list\")\n",
    "#movie_list"
   ]
  },
  {
   "cell_type": "code",
   "execution_count": 8,
   "id": "242cf251",
   "metadata": {},
   "outputs": [],
   "source": [
    "# collecting the information\n",
    "\n",
    "rank= []\n",
    "title= []\n",
    "year= []\n",
    "link= []\n",
    "rating= []"
   ]
  },
  {
   "cell_type": "code",
   "execution_count": 9,
   "id": "c8eec5d0",
   "metadata": {},
   "outputs": [],
   "source": [
    "for i in movie_list.find_all(\"td\", class_=\"titleColumn\"):\n",
    "    # for the link of movies\n",
    "    link.append('https://www.imdb.com' + i.find(\"a\").get(\"href\")) \n",
    "    \n",
    "    # for the title of the movie\n",
    "    title.append(i.find(\"a\").text)\n",
    "    \n",
    "    li=[j for j in i.text.split()]\n",
    "    \n",
    "    # ranking of the movie\n",
    "    rank.append(li[0].strip('.'))\n",
    "    \n",
    "    # movie released in year\n",
    "    year.append(li[-1].strip('()'))\n",
    "    \n",
    "for r in movie_list.find_all(\"td\", class_= \"ratingColumn imdbRating\"):\n",
    "    \n",
    "    # rating of each movies\n",
    "    rating.append(r.strong.text)"
   ]
  },
  {
   "cell_type": "code",
   "execution_count": 10,
   "id": "5d0fd31e",
   "metadata": {},
   "outputs": [
    {
     "data": {
      "text/plain": [
       "(250, 250, 250, 250, 250)"
      ]
     },
     "execution_count": 10,
     "metadata": {},
     "output_type": "execute_result"
    }
   ],
   "source": [
    "# to check if all the data is leveled or not\n",
    "len(rating), len(year), len(rank), len(title), len(link)"
   ]
  },
  {
   "cell_type": "code",
   "execution_count": 11,
   "id": "4e9c0c4f",
   "metadata": {},
   "outputs": [],
   "source": [
    "import pandas as pd"
   ]
  },
  {
   "cell_type": "code",
   "execution_count": 12,
   "id": "44862de9",
   "metadata": {},
   "outputs": [
    {
     "name": "stdout",
     "output_type": "stream",
     "text": [
      "    Rank                                           Title  Year Rating  \\\n",
      "0      1                        The Shawshank Redemption  1994    9.2   \n",
      "1      2                                   The Godfather  1972    9.1   \n",
      "2      3                          The Godfather: Part II  1974    9.0   \n",
      "3      4                                 The Dark Knight  2008    9.0   \n",
      "4      5                                    12 Angry Men  1957    8.9   \n",
      "..   ...                                             ...   ...    ...   \n",
      "245  246                               Three Colors: Red  1994    8.0   \n",
      "246  247                                         Sunrise  1927    8.0   \n",
      "247  248  Neon Genesis Evangelion: The End of Evangelion  1997    8.0   \n",
      "248  249                                        Drishyam  2013    8.0   \n",
      "249  250                           Miracle in Cell No. 7  2019    8.0   \n",
      "\n",
      "                                                  Link  \n",
      "0    https://www.imdb.com/title/tt0111161/?pf_rd_m=...  \n",
      "1    https://www.imdb.com/title/tt0068646/?pf_rd_m=...  \n",
      "2    https://www.imdb.com/title/tt0071562/?pf_rd_m=...  \n",
      "3    https://www.imdb.com/title/tt0468569/?pf_rd_m=...  \n",
      "4    https://www.imdb.com/title/tt0050083/?pf_rd_m=...  \n",
      "..                                                 ...  \n",
      "245  https://www.imdb.com/title/tt0111495/?pf_rd_m=...  \n",
      "246  https://www.imdb.com/title/tt0018455/?pf_rd_m=...  \n",
      "247  https://www.imdb.com/title/tt0169858/?pf_rd_m=...  \n",
      "248  https://www.imdb.com/title/tt3417422/?pf_rd_m=...  \n",
      "249  https://www.imdb.com/title/tt10431500/?pf_rd_m...  \n",
      "\n",
      "[250 rows x 5 columns]\n"
     ]
    }
   ],
   "source": [
    "df= pd.DataFrame({\"Rank\": rank, \"Title\": title, \"Year\": year, \"Rating\": rating, \"Link\": link})\n",
    "print(df)"
   ]
  },
  {
   "cell_type": "code",
   "execution_count": null,
   "id": "72eb46a4",
   "metadata": {},
   "outputs": [],
   "source": [
    "# to save the in csv\n",
    "df.to_csv('imdb_top_250_movies.csv')"
   ]
  }
 ],
 "metadata": {
  "kernelspec": {
   "display_name": "Python 3",
   "language": "python",
   "name": "python3"
  },
  "language_info": {
   "codemirror_mode": {
    "name": "ipython",
    "version": 3
   },
   "file_extension": ".py",
   "mimetype": "text/x-python",
   "name": "python",
   "nbconvert_exporter": "python",
   "pygments_lexer": "ipython3",
   "version": "3.8.10"
  }
 },
 "nbformat": 4,
 "nbformat_minor": 5
}
